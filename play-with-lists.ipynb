{
 "cells": [
  {
   "cell_type": "markdown",
   "metadata": {},
   "source": [
    "## working with lists"
   ]
  },
  {
   "cell_type": "code",
   "execution_count": 83,
   "metadata": {},
   "outputs": [],
   "source": [
    "# declare a list\n",
    "beatles = []"
   ]
  },
  {
   "cell_type": "code",
   "execution_count": 84,
   "metadata": {
    "tags": []
   },
   "outputs": [],
   "source": [
    "#print(dir(beatles))"
   ]
  },
  {
   "cell_type": "code",
   "execution_count": 85,
   "metadata": {},
   "outputs": [],
   "source": [
    "beatles = [\"John\", \"Paul\", \"George\", \"Ringo\", \"Stuart\"]"
   ]
  },
  {
   "cell_type": "code",
   "execution_count": 86,
   "metadata": {
    "tags": []
   },
   "outputs": [
    {
     "name": "stdout",
     "output_type": "stream",
     "text": [
      "['John', 'Paul', 'George', 'Ringo', 'Stuart']\n"
     ]
    }
   ],
   "source": [
    "print(beatles)"
   ]
  },
  {
   "cell_type": "code",
   "execution_count": 87,
   "metadata": {
    "tags": []
   },
   "outputs": [
    {
     "name": "stdout",
     "output_type": "stream",
     "text": [
      "There are 5 Beatles\n"
     ]
    }
   ],
   "source": [
    "# calculate number of beatles\n",
    "number_of_beatles = len(beatles)\n",
    "\n",
    "# print number of beatles\n",
    "print(\"There are\", number_of_beatles, \"Beatles\")\n"
   ]
  },
  {
   "cell_type": "code",
   "execution_count": 89,
   "metadata": {
    "tags": []
   },
   "outputs": [
    {
     "name": "stdout",
     "output_type": "stream",
     "text": [
      "John\n"
     ]
    }
   ],
   "source": [
    "print(beatles[0])"
   ]
  },
  {
   "cell_type": "code",
   "execution_count": 90,
   "metadata": {
    "tags": []
   },
   "outputs": [
    {
     "name": "stdout",
     "output_type": "stream",
     "text": [
      "['John', 'Paul', 'George', 'Ringo', 'Stuart']\n",
      "['John', 'Paul', 'George', 'Ringo']\n"
     ]
    }
   ],
   "source": [
    "print(beatles)\n",
    "\n",
    "# Let's remove Stuart\n",
    "# \n",
    "beatles.pop()\n",
    "\n",
    "# What happened to the Beatles?\n",
    "print(beatles)"
   ]
  },
  {
   "cell_type": "code",
   "execution_count": 91,
   "metadata": {},
   "outputs": [],
   "source": [
    "stones = [\"Mick\", \"Ron\", \"Keith\"]"
   ]
  },
  {
   "cell_type": "code",
   "execution_count": 92,
   "metadata": {
    "tags": []
   },
   "outputs": [
    {
     "name": "stdout",
     "output_type": "stream",
     "text": [
      "['John', 'Paul', 'George', 'Ringo', 'Mick', 'Ron', 'Keith']\n",
      "['John', 'Paul', 'George', 'Ringo']\n"
     ]
    }
   ],
   "source": [
    "# add two lists together\n",
    "supergroup = beatles + stones\n",
    "\n",
    "# print our new list\n",
    "print(supergroup)\n",
    "print(beatles)"
   ]
  },
  {
   "cell_type": "code",
   "execution_count": 93,
   "metadata": {},
   "outputs": [],
   "source": [
    "beatles.append(stones)"
   ]
  },
  {
   "cell_type": "code",
   "execution_count": 94,
   "metadata": {
    "tags": []
   },
   "outputs": [
    {
     "name": "stdout",
     "output_type": "stream",
     "text": [
      "['John', 'Paul', 'George', 'Ringo', ['Mick', 'Ron', 'Keith']]\n"
     ]
    }
   ],
   "source": [
    "print(beatles)"
   ]
  },
  {
   "cell_type": "code",
   "execution_count": 95,
   "metadata": {
    "tags": []
   },
   "outputs": [
    {
     "name": "stdout",
     "output_type": "stream",
     "text": [
      "7\n",
      "5\n"
     ]
    }
   ],
   "source": [
    "print(len(supergroup))\n",
    "print(len(beatles))"
   ]
  },
  {
   "cell_type": "markdown",
   "metadata": {},
   "source": [
    "## understanding `extend()`"
   ]
  },
  {
   "cell_type": "code",
   "execution_count": 98,
   "metadata": {},
   "outputs": [],
   "source": [
    "# start fresh with new groups\n",
    "jackson5 = ['jackie', 'tito', 'jermaine', 'marlon', 'michael']\n",
    "destiny  = ['beyonce', 'kelly', 'michelle']\n",
    "divas    = ['alicia', 'maryjblige']"
   ]
  },
  {
   "cell_type": "code",
   "execution_count": 69,
   "metadata": {
    "tags": []
   },
   "outputs": [
    {
     "name": "stdout",
     "output_type": "stream",
     "text": [
      "Jackson5: ['jackie', 'tito', 'jermaine', 'marlon', 'michael', 'beyonce', 'kelly', 'michelle']\n",
      "Destiny's Child: ['beyonce', 'kelly', 'michelle']\n",
      "Supergroup: None\n"
     ]
    }
   ],
   "source": [
    "# what does extend do?\n",
    "super = jackson5.extend(destiny)\n",
    "print(\"Jackson5:\", jackson5)\n",
    "print(\"Destiny's Child:\", destiny)\n",
    "print(\"Supergroup:\", super)\n",
    "\n",
    "# extend() modifies a list in place, it doesn't return a value (i.e., a new list)\n",
    "# use \"+\" if you want to create a new list"
   ]
  },
  {
   "cell_type": "markdown",
   "metadata": {},
   "source": [
    "## indexing lists"
   ]
  },
  {
   "cell_type": "code",
   "execution_count": 76,
   "metadata": {
    "tags": []
   },
   "outputs": [
    {
     "name": "stdout",
     "output_type": "stream",
     "text": [
      "['beyonce', 'kelly', 'michelle', 'alicia', 'maryjblige']\n"
     ]
    }
   ],
   "source": [
    "# make and print a new supergroup, 'destiny_plus'\n",
    "destiny_plus = destiny + divas\n",
    "print(destiny_plus)"
   ]
  },
  {
   "cell_type": "code",
   "execution_count": 77,
   "metadata": {
    "tags": []
   },
   "outputs": [
    {
     "name": "stdout",
     "output_type": "stream",
     "text": [
      "['beyonce', 'kelly', 'michelle', 'alicia', 'maryjblige', ['george', 'paul', 'ringo', 'john']]\n"
     ]
    }
   ],
   "source": [
    "# use `append()` to add some old men\n",
    "destiny_plus.append(['george', 'paul', 'ringo', 'john'])\n",
    "print(destiny_plus)"
   ]
  },
  {
   "cell_type": "markdown",
   "metadata": {},
   "source": [
    "## loop over a list"
   ]
  },
  {
   "cell_type": "code",
   "execution_count": 78,
   "metadata": {
    "tags": []
   },
   "outputs": [
    {
     "name": "stdout",
     "output_type": "stream",
     "text": [
      "beyonce\n",
      "kelly\n",
      "michelle\n",
      "alicia\n",
      "maryjblige\n",
      "['george', 'paul', 'ringo', 'john']\n"
     ]
    }
   ],
   "source": [
    "# loop over 'destiny_plus'\n",
    "for person in destiny_plus:\n",
    "    print(person)\n"
   ]
  },
  {
   "cell_type": "markdown",
   "metadata": {},
   "source": [
    "## loop over a list within a list"
   ]
  },
  {
   "cell_type": "code",
   "execution_count": 79,
   "metadata": {
    "tags": []
   },
   "outputs": [
    {
     "name": "stdout",
     "output_type": "stream",
     "text": [
      "george\n",
      "paul\n",
      "ringo\n",
      "john\n"
     ]
    }
   ],
   "source": [
    "# loop over the old guys in 'destiny_plus'\n",
    "for person in destiny_plus[5]:\n",
    "    print(person)"
   ]
  },
  {
   "cell_type": "markdown",
   "metadata": {},
   "source": [
    "### introducing a test"
   ]
  },
  {
   "cell_type": "code",
   "execution_count": 80,
   "metadata": {
    "tags": []
   },
   "outputs": [
    {
     "name": "stdout",
     "output_type": "stream",
     "text": [
      "beyonce\n",
      "kelly\n",
      "michelle\n",
      "alicia\n",
      "maryjblige\n",
      "It's a list: ['george', 'paul', 'ringo', 'john']\n"
     ]
    }
   ],
   "source": [
    "# what 'type' of variable is this anyway?\n",
    "for person in destiny_plus:\n",
    "    if type(person) is list:\n",
    "        print(\"It's a list:\", person)\n",
    "    else:\n",
    "        print(person) "
   ]
  },
  {
   "cell_type": "markdown",
   "metadata": {},
   "source": [
    "### executing a nested `for` loop"
   ]
  },
  {
   "cell_type": "code",
   "execution_count": 81,
   "metadata": {
    "tags": []
   },
   "outputs": [
    {
     "name": "stdout",
     "output_type": "stream",
     "text": [
      "diva #1: beyonce\n",
      "diva #2: kelly\n",
      "diva #3: michelle\n",
      "diva #4: alicia\n",
      "diva #5: maryjblige\n",
      "old dude #1: george\n",
      "old dude #2: paul\n",
      "old dude #3: ringo\n",
      "old dude #4: john\n"
     ]
    }
   ],
   "source": [
    "# loop within a loop\n",
    "\n",
    "i = 1\n",
    "j = 1\n",
    "for member in destiny_plus:\n",
    "    if type(member) is list:\n",
    "        for dude in member:\n",
    "            print(\"old dude #\" + str(i) + \": \" + dude)\n",
    "            i = i+1\n",
    "    else:\n",
    "        print(\"diva #\" + str(j) + \": \" + member)\n",
    "        j+=1"
   ]
  },
  {
   "cell_type": "markdown",
   "metadata": {},
   "source": [
    "### retrieve the index _and_ the value with `enumerate()`"
   ]
  },
  {
   "cell_type": "code",
   "execution_count": 82,
   "metadata": {
    "tags": []
   },
   "outputs": [
    {
     "name": "stdout",
     "output_type": "stream",
     "text": [
      "index 1: beyonce\n",
      "index 2: kelly\n",
      "index 3: michelle\n",
      "index 4: alicia\n",
      "index 5: maryjblige\n",
      "\n",
      "Here is the list element:\n",
      "\n",
      "  index 1: george\n",
      "  index 2: paul\n",
      "  index 3: ringo\n",
      "  index 4: john\n"
     ]
    }
   ],
   "source": [
    "# lots of flexibility with enumerate()\n",
    "for index, member in enumerate(destiny_plus):\n",
    "    if type(member) is list:\n",
    "        print(\"\\nHere is the list element:\\n\")\n",
    "        for count, dude in enumerate(member):\n",
    "            print(\"  index \" + str(count + 1) + \": \" + dude)\n",
    "    else:\n",
    "        print(\"index \" + str(index + 1) + \": \" + member)"
   ]
  },
  {
   "cell_type": "code",
   "execution_count": null,
   "metadata": {},
   "outputs": [],
   "source": []
  }
 ],
 "metadata": {
  "kernelspec": {
   "display_name": "Python 3",
   "language": "python",
   "name": "python3"
  },
  "language_info": {
   "codemirror_mode": {
    "name": "ipython",
    "version": 3
   },
   "file_extension": ".py",
   "mimetype": "text/x-python",
   "name": "python",
   "nbconvert_exporter": "python",
   "pygments_lexer": "ipython3",
   "version": "3.9.2"
  }
 },
 "nbformat": 4,
 "nbformat_minor": 2
}
