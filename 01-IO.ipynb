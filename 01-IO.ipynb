{
 "cells": [
  {
   "cell_type": "code",
   "execution_count": 1,
   "id": "comic-privilege",
   "metadata": {},
   "outputs": [],
   "source": [
    "# set the name of input DNA sequence file\n",
    "filename = 'dna.txt'"
   ]
  },
  {
   "cell_type": "code",
   "execution_count": 2,
   "id": "vertical-holly",
   "metadata": {},
   "outputs": [],
   "source": [
    "# open the input file, assign to file handle called 'infile'\n",
    "infile = open(filename, 'r')\n",
    "\n",
    "# print(infile)"
   ]
  },
  {
   "cell_type": "code",
   "execution_count": 3,
   "id": "atlantic-instrumentation",
   "metadata": {},
   "outputs": [],
   "source": [
    "# read the file\n",
    "dna_sequence = infile.read().rstrip()\n",
    "# dna_sequence = dna_sequence.rstrip()"
   ]
  },
  {
   "cell_type": "code",
   "execution_count": 4,
   "id": "stunning-listening",
   "metadata": {},
   "outputs": [],
   "source": [
    "# print the dna sequence\n",
    "#print(dna_sequence)"
   ]
  },
  {
   "cell_type": "code",
   "execution_count": 5,
   "id": "specialized-helping",
   "metadata": {},
   "outputs": [],
   "source": [
    "# close the file\n",
    "infile.close()"
   ]
  },
  {
   "cell_type": "code",
   "execution_count": 6,
   "id": "complex-drink",
   "metadata": {},
   "outputs": [],
   "source": [
    "# print(dna_sequence)"
   ]
  },
  {
   "cell_type": "code",
   "execution_count": 7,
   "id": "urban-swimming",
   "metadata": {},
   "outputs": [],
   "source": [
    "seqlen = len(dna_sequence)"
   ]
  },
  {
   "cell_type": "code",
   "execution_count": 8,
   "id": "presidential-irish",
   "metadata": {},
   "outputs": [
    {
     "name": "stdout",
     "output_type": "stream",
     "text": [
      "Length of DNA sequence 303\n"
     ]
    }
   ],
   "source": [
    "print(\"Length of DNA sequence\", seqlen)"
   ]
  },
  {
   "cell_type": "code",
   "execution_count": 9,
   "id": "sized-villa",
   "metadata": {},
   "outputs": [
    {
     "name": "stdout",
     "output_type": "stream",
     "text": [
      "76\n"
     ]
    }
   ],
   "source": [
    "print(dna_sequence.count('A'))\n",
    "numA = dna_sequence.count('A')"
   ]
  },
  {
   "cell_type": "code",
   "execution_count": 10,
   "id": "nervous-bankruptcy",
   "metadata": {},
   "outputs": [
    {
     "name": "stdout",
     "output_type": "stream",
     "text": [
      "The number of A's in dna.txt: 76\n"
     ]
    }
   ],
   "source": [
    "print(\"The number of A's in\", filename + \":\", numA)"
   ]
  },
  {
   "cell_type": "code",
   "execution_count": 11,
   "id": "happy-lucas",
   "metadata": {},
   "outputs": [],
   "source": [
    "outfile = open('my_first_output.txt', 'w')"
   ]
  },
  {
   "cell_type": "code",
   "execution_count": 12,
   "id": "round-columbus",
   "metadata": {},
   "outputs": [
    {
     "data": {
      "text/plain": [
       "18"
      ]
     },
     "execution_count": 12,
     "metadata": {},
     "output_type": "execute_result"
    }
   ],
   "source": [
    "outfile.write('DNA sequence: ' + dna_sequence + '\\n')\n",
    "outfile.write('Sequence length: ' + str(seqlen) + ' nt' + '\\n')\n",
    "outfile.write(\"Number of A's: \" + str(numA) + '\\n\\n')"
   ]
  },
  {
   "cell_type": "code",
   "execution_count": 13,
   "id": "proper-cabinet",
   "metadata": {},
   "outputs": [],
   "source": [
    "outfile.close()"
   ]
  }
 ],
 "metadata": {
  "kernelspec": {
   "display_name": "Python 3",
   "language": "python",
   "name": "python3"
  },
  "language_info": {
   "codemirror_mode": {
    "name": "ipython",
    "version": 3
   },
   "file_extension": ".py",
   "mimetype": "text/x-python",
   "name": "python",
   "nbconvert_exporter": "python",
   "pygments_lexer": "ipython3",
   "version": "3.9.2"
  }
 },
 "nbformat": 4,
 "nbformat_minor": 5
}
