{
 "metadata": {
  "language_info": {
   "codemirror_mode": {
    "name": "ipython",
    "version": 3
   },
   "file_extension": ".py",
   "mimetype": "text/x-python",
   "name": "python",
   "nbconvert_exporter": "python",
   "pygments_lexer": "ipython3",
   "version": "3.7.3-final"
  },
  "orig_nbformat": 2,
  "kernelspec": {
   "name": "Python 3.7.3 64-bit",
   "display_name": "Python 3.7.3 64-bit",
   "metadata": {
    "interpreter": {
     "hash": "aee8b7b246df8f9039afb4144a1f6fd8d2ca17a180786b69acc140d282b71a49"
    }
   }
  }
 },
 "nbformat": 4,
 "nbformat_minor": 2,
 "cells": [
  {
   "source": [
    "## working with lists"
   ],
   "cell_type": "markdown",
   "metadata": {}
  },
  {
   "cell_type": "code",
   "execution_count": 1,
   "metadata": {},
   "outputs": [],
   "source": [
    "# declare an empty string\n",
    "bob = ''\n",
    "\n",
    "# declare a list\n",
    "beatles = []"
   ]
  },
  {
   "cell_type": "code",
   "execution_count": 2,
   "metadata": {
    "tags": []
   },
   "outputs": [
    {
     "output_type": "stream",
     "name": "stdout",
     "text": "['__add__', '__class__', '__contains__', '__delattr__', '__delitem__', '__dir__', '__doc__', '__eq__', '__format__', '__ge__', '__getattribute__', '__getitem__', '__gt__', '__hash__', '__iadd__', '__imul__', '__init__', '__init_subclass__', '__iter__', '__le__', '__len__', '__lt__', '__mul__', '__ne__', '__new__', '__reduce__', '__reduce_ex__', '__repr__', '__reversed__', '__rmul__', '__setattr__', '__setitem__', '__sizeof__', '__str__', '__subclasshook__', 'append', 'clear', 'copy', 'count', 'extend', 'index', 'insert', 'pop', 'remove', 'reverse', 'sort']\n"
    }
   ],
   "source": [
    "print(dir(beatles))"
   ]
  },
  {
   "cell_type": "code",
   "execution_count": 3,
   "metadata": {},
   "outputs": [],
   "source": [
    "beatles = [\"John\", \"Paul\", \"George\", \"Ringo\", \"Stuart\"]"
   ]
  },
  {
   "cell_type": "code",
   "execution_count": 4,
   "metadata": {
    "tags": []
   },
   "outputs": [
    {
     "output_type": "stream",
     "name": "stdout",
     "text": "['John', 'Paul', 'George', 'Ringo', 'Stuart']\n"
    }
   ],
   "source": [
    "print(beatles)"
   ]
  },
  {
   "cell_type": "code",
   "execution_count": 5,
   "metadata": {
    "tags": []
   },
   "outputs": [
    {
     "output_type": "stream",
     "name": "stdout",
     "text": "There are 5 Beatles\n"
    }
   ],
   "source": [
    "# calculate number of beatles\n",
    "number_of_beatles = len(beatles)\n",
    "\n",
    "# print number of beatles\n",
    "print(\"There are\", number_of_beatles, \"Beatles\")\n"
   ]
  },
  {
   "cell_type": "code",
   "execution_count": 6,
   "metadata": {
    "tags": []
   },
   "outputs": [
    {
     "output_type": "stream",
     "name": "stdout",
     "text": "The last Beatle was Stuart\n"
    }
   ],
   "source": [
    "# print a Beatle\n",
    "print(\"The last Beatle was\", beatles[len(beatles)-1])\n"
   ]
  },
  {
   "cell_type": "code",
   "execution_count": 7,
   "metadata": {
    "tags": []
   },
   "outputs": [
    {
     "output_type": "stream",
     "name": "stdout",
     "text": "John\n"
    }
   ],
   "source": [
    "print(beatles[0])"
   ]
  },
  {
   "cell_type": "code",
   "execution_count": 8,
   "metadata": {
    "tags": []
   },
   "outputs": [
    {
     "output_type": "stream",
     "name": "stdout",
     "text": "['John', 'Paul', 'George', 'Ringo', 'Stuart']\n['John', 'Paul', 'George', 'Ringo', 'Stuart']\n"
    }
   ],
   "source": [
    "print(beatles)\n",
    "\n",
    "# Let's remove Stuart\n",
    "# \n",
    "# beatles.pop()\n",
    "\n",
    "# What happened to the Beatles?\n",
    "print(beatles)"
   ]
  },
  {
   "cell_type": "code",
   "execution_count": 9,
   "metadata": {},
   "outputs": [],
   "source": [
    "stones = [\"Mick\", \"Ron\", \"Keith\"]"
   ]
  },
  {
   "cell_type": "code",
   "execution_count": 10,
   "metadata": {
    "tags": []
   },
   "outputs": [
    {
     "output_type": "stream",
     "name": "stdout",
     "text": "['John', 'Paul', 'George', 'Ringo', 'Stuart', 'Mick', 'Ron', 'Keith']\n['John', 'Paul', 'George', 'Ringo', 'Stuart']\n"
    }
   ],
   "source": [
    "# add two lists together\n",
    "supergroup = beatles + stones\n",
    "\n",
    "# print our new list\n",
    "print(supergroup)\n",
    "print(beatles)"
   ]
  },
  {
   "cell_type": "code",
   "execution_count": 11,
   "metadata": {
    "tags": []
   },
   "outputs": [
    {
     "output_type": "stream",
     "name": "stdout",
     "text": "['John', 'Paul', 'George', 'Ringo', 'Stuart']\n"
    }
   ],
   "source": [
    "print(beatles)"
   ]
  },
  {
   "cell_type": "code",
   "execution_count": 12,
   "metadata": {},
   "outputs": [
    {
     "output_type": "execute_result",
     "data": {
      "text/plain": "'Stuart'"
     },
     "metadata": {},
     "execution_count": 12
    }
   ],
   "source": [
    "beatles.pop()"
   ]
  },
  {
   "cell_type": "code",
   "execution_count": 13,
   "metadata": {
    "tags": []
   },
   "outputs": [
    {
     "output_type": "stream",
     "name": "stdout",
     "text": "['John', 'Paul', 'George', 'Ringo']\n"
    }
   ],
   "source": [
    "print(beatles)"
   ]
  },
  {
   "cell_type": "code",
   "execution_count": 14,
   "metadata": {},
   "outputs": [],
   "source": [
    "beatles.append(stones)"
   ]
  },
  {
   "cell_type": "code",
   "execution_count": 15,
   "metadata": {
    "tags": []
   },
   "outputs": [
    {
     "output_type": "stream",
     "name": "stdout",
     "text": "['John', 'Paul', 'George', 'Ringo', ['Mick', 'Ron', 'Keith']]\n"
    }
   ],
   "source": [
    "print(beatles)"
   ]
  },
  {
   "cell_type": "code",
   "execution_count": 16,
   "metadata": {
    "tags": []
   },
   "outputs": [
    {
     "output_type": "stream",
     "name": "stdout",
     "text": "8\n5\n"
    }
   ],
   "source": [
    "print(len(supergroup))\n",
    "print(len(beatles))"
   ]
  },
  {
   "cell_type": "code",
   "execution_count": 17,
   "metadata": {
    "tags": []
   },
   "outputs": [
    {
     "output_type": "stream",
     "name": "stdout",
     "text": "['__add__', '__class__', '__contains__', '__delattr__', '__delitem__', '__dir__', '__doc__', '__eq__', '__format__', '__ge__', '__getattribute__', '__getitem__', '__gt__', '__hash__', '__iadd__', '__imul__', '__init__', '__init_subclass__', '__iter__', '__le__', '__len__', '__lt__', '__mul__', '__ne__', '__new__', '__reduce__', '__reduce_ex__', '__repr__', '__reversed__', '__rmul__', '__setattr__', '__setitem__', '__sizeof__', '__str__', '__subclasshook__', 'append', 'clear', 'copy', 'count', 'extend', 'index', 'insert', 'pop', 'remove', 'reverse', 'sort']\n"
    }
   ],
   "source": [
    "print(dir(beatles[4]))"
   ]
  },
  {
   "cell_type": "code",
   "execution_count": 18,
   "metadata": {
    "tags": []
   },
   "outputs": [
    {
     "output_type": "stream",
     "name": "stdout",
     "text": "['John', 'Paul', 'George', 'Ringo', ['Mick', 'Ron', 'Keith']]\n"
    }
   ],
   "source": [
    "print(beatles)"
   ]
  },
  {
   "cell_type": "code",
   "execution_count": 19,
   "metadata": {},
   "outputs": [
    {
     "output_type": "execute_result",
     "data": {
      "text/plain": "['Mick', 'Ron', 'Keith']"
     },
     "metadata": {},
     "execution_count": 19
    }
   ],
   "source": [
    "beatles.pop()"
   ]
  },
  {
   "cell_type": "code",
   "execution_count": 20,
   "metadata": {},
   "outputs": [],
   "source": [
    "beatles.extend(stones)"
   ]
  },
  {
   "cell_type": "code",
   "execution_count": 21,
   "metadata": {
    "tags": []
   },
   "outputs": [
    {
     "output_type": "stream",
     "name": "stdout",
     "text": "['John', 'Paul', 'George', 'Ringo', 'Mick', 'Ron', 'Keith']\n"
    }
   ],
   "source": [
    "print(beatles)"
   ]
  },
  {
   "cell_type": "code",
   "execution_count": 22,
   "metadata": {
    "tags": []
   },
   "outputs": [
    {
     "output_type": "stream",
     "name": "stdout",
     "text": "None\n"
    }
   ],
   "source": [
    "# what went wrong?\n",
    "ringo = stones.extend(beatles)\n",
    "print(ringo)"
   ]
  },
  {
   "source": [
    "## understanding `extend()`"
   ],
   "cell_type": "markdown",
   "metadata": {}
  },
  {
   "cell_type": "code",
   "execution_count": 23,
   "metadata": {},
   "outputs": [],
   "source": [
    "# start fresh with new groups\n",
    "jackson5 = ['jackie', 'tito', 'jermaine', 'marlon', 'michael']\n",
    "destiny  = ['beyonce', 'kelly', 'michelle']\n",
    "divas    = ['alicia', 'maryjblige']"
   ]
  },
  {
   "cell_type": "code",
   "execution_count": 24,
   "metadata": {
    "tags": []
   },
   "outputs": [
    {
     "output_type": "stream",
     "name": "stdout",
     "text": "Jackson5: ['jackie', 'tito', 'jermaine', 'marlon', 'michael', 'beyonce', 'kelly', 'michelle']\nDestiny's Child: ['beyonce', 'kelly', 'michelle']\nSupergroup: None\n"
    }
   ],
   "source": [
    "# what does extend do?\n",
    "super = jackson5.extend(destiny)\n",
    "print(\"Jackson5:\", jackson5)\n",
    "print(\"Destiny's Child:\", destiny)\n",
    "print(\"Supergroup:\", super)\n",
    "\n",
    "# extend() modifies a list in place, it doesn't return a value (i.e., a new list)\n",
    "# use \"+\" if you want to create a new list"
   ]
  },
  {
   "source": [
    "## indexing lists"
   ],
   "cell_type": "markdown",
   "metadata": {}
  },
  {
   "cell_type": "code",
   "execution_count": 37,
   "metadata": {
    "tags": []
   },
   "outputs": [
    {
     "output_type": "stream",
     "name": "stdout",
     "text": "['beyonce', 'kelly', 'michelle', 'alicia', 'maryjblige']\n"
    }
   ],
   "source": [
    "# make and print a new supergroup, 'destiny_plus'\n",
    "destiny_plus = destiny + divas\n",
    "print(destiny_plus)"
   ]
  },
  {
   "cell_type": "code",
   "execution_count": 38,
   "metadata": {
    "tags": []
   },
   "outputs": [
    {
     "output_type": "stream",
     "name": "stdout",
     "text": "['beyonce', 'kelly', 'michelle', 'alicia', 'maryjblige', ['george', 'paul', 'ringo', 'john']]\n"
    }
   ],
   "source": [
    "# use `append()` to add some old men\n",
    "destiny_plus.append(['george', 'paul', 'ringo', 'john'])\n",
    "print(destiny_plus)"
   ]
  },
  {
   "cell_type": "code",
   "execution_count": 39,
   "metadata": {
    "tags": []
   },
   "outputs": [
    {
     "output_type": "stream",
     "name": "stdout",
     "text": "['george', 'paul', 'ringo', 'john']\nRingo is one lucky S.O.B.\n"
    }
   ],
   "source": [
    "## find and print Ringo, who is buried in a list within a list\n",
    "print(destiny_plus[5])\n",
    "print(destiny_plus[5][2].capitalize(), \"is one lucky S.O.B.\")\n"
   ]
  },
  {
   "source": [
    "## loop over a list"
   ],
   "cell_type": "markdown",
   "metadata": {}
  },
  {
   "cell_type": "code",
   "execution_count": 46,
   "metadata": {
    "tags": []
   },
   "outputs": [
    {
     "output_type": "stream",
     "name": "stdout",
     "text": "beyonce\nkelly\nmichelle\nalicia\nmaryjblige\n['george', 'paul', 'ringo', 'john']\n"
    }
   ],
   "source": [
    "# loop over 'destiny_plus'\n",
    "for person in destiny_plus:\n",
    "    print(person)\n"
   ]
  },
  {
   "source": [
    "## loop over a list within a list"
   ],
   "cell_type": "markdown",
   "metadata": {}
  },
  {
   "cell_type": "code",
   "execution_count": 45,
   "metadata": {
    "tags": []
   },
   "outputs": [
    {
     "output_type": "stream",
     "name": "stdout",
     "text": "george\npaul\nringo\njohn\n"
    }
   ],
   "source": [
    "# loop over the old guys in 'destiny_plus'\n",
    "for person in destiny_plus[5]:\n",
    "    print(person)"
   ]
  },
  {
   "source": [
    "### introducing a test"
   ],
   "cell_type": "markdown",
   "metadata": {}
  },
  {
   "cell_type": "code",
   "execution_count": 41,
   "metadata": {
    "tags": []
   },
   "outputs": [
    {
     "output_type": "stream",
     "name": "stdout",
     "text": "beyonce\nkelly\nmichelle\nalicia\nmaryjblige\nIt's a list: ['george', 'paul', 'ringo', 'john']\n"
    }
   ],
   "source": [
    "# what 'type' of variable is this anyway?\n",
    "for person in destiny_plus:\n",
    "    if type(person) is list:\n",
    "        print(\"It's a list:\", person)\n",
    "    else:\n",
    "        print(person) "
   ]
  },
  {
   "source": [
    "### executing a nested `for` loop"
   ],
   "cell_type": "markdown",
   "metadata": {}
  },
  {
   "cell_type": "code",
   "execution_count": 42,
   "metadata": {
    "tags": []
   },
   "outputs": [
    {
     "output_type": "stream",
     "name": "stdout",
     "text": "diva #1: beyonce\ndiva #2: kelly\ndiva #3: michelle\ndiva #4: alicia\ndiva #5: maryjblige\nold dude #1: george\nold dude #2: paul\nold dude #3: ringo\nold dude #4: john\n"
    }
   ],
   "source": [
    "# loop within a loop\n",
    "\n",
    "i = 1\n",
    "j = 1\n",
    "for member in destiny_plus:\n",
    "    if type(member) is list:\n",
    "        for dude in member:\n",
    "            print(\"old dude #\" + str(i) + \": \" + dude)\n",
    "            i = i+1\n",
    "    else:\n",
    "        print(\"diva #\" + str(j) + \": \" + member)\n",
    "        j+=1"
   ]
  },
  {
   "source": [
    "### retrieve the index _and_ the value with `enumerate()`"
   ],
   "cell_type": "markdown",
   "metadata": {}
  },
  {
   "cell_type": "code",
   "execution_count": 34,
   "metadata": {
    "tags": []
   },
   "outputs": [
    {
     "output_type": "stream",
     "name": "stdout",
     "text": "index 1: beyonce\nindex 2: kelly\nindex 3: michelle\nindex 4: alicia\nindex 5: maryjblige\n\nHere is the list element:\n\n  index 1: george\n  index 2: paul\n  index 3: ringo\n  index 4: john\n"
    }
   ],
   "source": [
    "# lots of flexibility with enumerate()\n",
    "for index, member in enumerate(destiny_plus):\n",
    "    if type(member) is list:\n",
    "        print(\"\\nHere is the list element:\\n\")\n",
    "        for count, dude in enumerate(member):\n",
    "            print(\"  index \" + str(count + 1) + \": \" + dude)\n",
    "    else:\n",
    "        print(\"index \" + str(index + 1) + \": \" + member)"
   ]
  },
  {
   "cell_type": "code",
   "execution_count": null,
   "metadata": {},
   "outputs": [],
   "source": []
  }
 ]
}