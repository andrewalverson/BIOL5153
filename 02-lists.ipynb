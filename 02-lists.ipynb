{
 "cells": [
  {
   "cell_type": "code",
   "execution_count": 1,
   "id": "intellectual-firmware",
   "metadata": {},
   "outputs": [],
   "source": [
    "# name of our input file\n",
    "input = 'covid.gff3'"
   ]
  },
  {
   "cell_type": "code",
   "execution_count": 2,
   "id": "agricultural-african",
   "metadata": {},
   "outputs": [],
   "source": [
    "# parse the different parts of the input file name\n",
    "# name_parts = input.split('.')\n",
    "(base_name, file_extension) = input.split('.')\n",
    "\n",
    "# create the name of the output file to hold the feature lengths\n",
    "output_file = base_name + '.lengths'\n",
    "\n",
    "# open our output file in 'write' mode\n",
    "out = open(output_file, 'w')"
   ]
  },
  {
   "cell_type": "code",
   "execution_count": 3,
   "id": "affiliated-tennis",
   "metadata": {},
   "outputs": [],
   "source": [
    "# make a list to store the feature lengths\n",
    "lengths = []\n",
    "\n",
    "# open and read the GFF file\n",
    "with open(input, 'r') as gff3:\n",
    "    # print header line\n",
    "    out.write('feature_type,length')\n",
    "    \n",
    "    # loop over each line in the file, assigning\n",
    "    # each line to the variable name, 'line'\n",
    "    for line in gff3:\n",
    "        # strip line breaks\n",
    "        line = line.rstrip()\n",
    "        # if the line is blank, skip it (continue)\n",
    "        if not line:\n",
    "            continue\n",
    "        # else the line has data, so parse it\n",
    "        else:\n",
    "            # split on the tab character\n",
    "            fields = line.split('\\t')\n",
    "            # calculate and print the length of the feature\n",
    "            feature_length = (int(fields[4]) - int(fields[3]))+1\n",
    "            \n",
    "            # add feature_length to our lengths list\n",
    "            lengths.append(feature_length)\n",
    "            \n",
    "            out.write('\\n')\n",
    "            out.write(fields[2] + ',' + str(feature_length))\n"
   ]
  },
  {
   "cell_type": "code",
   "execution_count": 4,
   "id": "forty-bikini",
   "metadata": {},
   "outputs": [],
   "source": [
    "# close the output file\n",
    "out.close()"
   ]
  },
  {
   "cell_type": "code",
   "execution_count": 9,
   "id": "democratic-onion",
   "metadata": {},
   "outputs": [
    {
     "name": "stdout",
     "output_type": "stream",
     "text": [
      "item 3: 21290\n",
      "there are 59 items in our list\n",
      "29903\n",
      "265\n",
      "21290\n",
      "13203\n",
      "8088\n",
      "540\n",
      "1914\n",
      "5835\n",
      "1500\n",
      "918\n",
      "870\n",
      "249\n",
      "594\n",
      "339\n",
      "417\n",
      "27\n",
      "2769\n",
      "1803\n",
      "1581\n",
      "1038\n",
      "894\n",
      "13218\n",
      "540\n",
      "1914\n",
      "5835\n",
      "1500\n",
      "918\n",
      "870\n",
      "249\n",
      "594\n",
      "339\n",
      "417\n",
      "39\n",
      "28\n",
      "55\n",
      "3822\n",
      "3822\n",
      "828\n",
      "828\n",
      "228\n",
      "228\n",
      "669\n",
      "669\n",
      "186\n",
      "186\n",
      "366\n",
      "366\n",
      "132\n",
      "132\n",
      "366\n",
      "366\n",
      "1260\n",
      "1260\n",
      "117\n",
      "117\n",
      "36\n",
      "29\n",
      "229\n",
      "41\n"
     ]
    }
   ],
   "source": [
    "# loop over all of the items in `lengths` list\n",
    "\n",
    "print('item 3:', lengths[2])\n",
    "print('there are', len(lengths), 'items in our list')\n",
    "\n",
    "for i in lengths:\n",
    "    print(i)"
   ]
  },
  {
   "cell_type": "code",
   "execution_count": null,
   "id": "present-jefferson",
   "metadata": {},
   "outputs": [],
   "source": []
  }
 ],
 "metadata": {
  "kernelspec": {
   "display_name": "Python 3",
   "language": "python",
   "name": "python3"
  },
  "language_info": {
   "codemirror_mode": {
    "name": "ipython",
    "version": 3
   },
   "file_extension": ".py",
   "mimetype": "text/x-python",
   "name": "python",
   "nbconvert_exporter": "python",
   "pygments_lexer": "ipython3",
   "version": "3.9.2"
  }
 },
 "nbformat": 4,
 "nbformat_minor": 5
}
